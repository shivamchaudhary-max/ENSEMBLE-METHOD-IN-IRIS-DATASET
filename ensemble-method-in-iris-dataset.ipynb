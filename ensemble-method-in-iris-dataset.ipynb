{
 "cells": [
  {
   "cell_type": "code",
   "execution_count": 1,
   "id": "64566fbe",
   "metadata": {
    "execution": {
     "iopub.execute_input": "2022-01-21T16:35:17.744896Z",
     "iopub.status.busy": "2022-01-21T16:35:17.744292Z",
     "iopub.status.idle": "2022-01-21T16:35:18.932578Z",
     "shell.execute_reply": "2022-01-21T16:35:18.931917Z",
     "shell.execute_reply.started": "2022-01-21T16:30:22.077083Z"
    },
    "papermill": {
     "duration": 1.208984,
     "end_time": "2022-01-21T16:35:18.932750",
     "exception": false,
     "start_time": "2022-01-21T16:35:17.723766",
     "status": "completed"
    },
    "tags": []
   },
   "outputs": [],
   "source": [
    "  import numpy as np\n",
    "  from sklearn.linear_model import LogisticRegression\n",
    "  from sklearn import svm\n",
    "  from sklearn import datasets\t\t\n",
    "  from sklearn import svm    \t\t\t\n",
    "  import numpy as np\n",
    "  import matplotlib.pyplot as plt   \n",
    "  from sklearn.ensemble import RandomForestClassifier, VotingClassifier"
   ]
  },
  {
   "cell_type": "code",
   "execution_count": 2,
   "id": "c657c3fd",
   "metadata": {
    "execution": {
     "iopub.execute_input": "2022-01-21T16:35:18.959117Z",
     "iopub.status.busy": "2022-01-21T16:35:18.958543Z",
     "iopub.status.idle": "2022-01-21T16:35:18.966690Z",
     "shell.execute_reply": "2022-01-21T16:35:18.966065Z",
     "shell.execute_reply.started": "2022-01-21T16:30:40.867684Z"
    },
    "papermill": {
     "duration": 0.021864,
     "end_time": "2022-01-21T16:35:18.966825",
     "exception": false,
     "start_time": "2022-01-21T16:35:18.944961",
     "status": "completed"
    },
    "tags": []
   },
   "outputs": [],
   "source": [
    "# import iris data to model Svm classifier\n",
    "I_D=datasets.load_iris()"
   ]
  },
  {
   "cell_type": "code",
   "execution_count": 3,
   "id": "ba761624",
   "metadata": {
    "execution": {
     "iopub.execute_input": "2022-01-21T16:35:19.001640Z",
     "iopub.status.busy": "2022-01-21T16:35:19.000893Z",
     "iopub.status.idle": "2022-01-21T16:35:19.004343Z",
     "shell.execute_reply": "2022-01-21T16:35:19.004799Z",
     "shell.execute_reply.started": "2022-01-21T16:30:52.549022Z"
    },
    "papermill": {
     "duration": 0.026721,
     "end_time": "2022-01-21T16:35:19.004945",
     "exception": false,
     "start_time": "2022-01-21T16:35:18.978224",
     "status": "completed"
    },
    "tags": []
   },
   "outputs": [
    {
     "data": {
      "text/plain": [
       "array([[5.1, 3.5, 1.4, 0.2],\n",
       "       [4.9, 3. , 1.4, 0.2],\n",
       "       [4.7, 3.2, 1.3, 0.2],\n",
       "       [4.6, 3.1, 1.5, 0.2],\n",
       "       [5. , 3.6, 1.4, 0.2],\n",
       "       [5.4, 3.9, 1.7, 0.4],\n",
       "       [4.6, 3.4, 1.4, 0.3],\n",
       "       [5. , 3.4, 1.5, 0.2],\n",
       "       [4.4, 2.9, 1.4, 0.2],\n",
       "       [4.9, 3.1, 1.5, 0.1],\n",
       "       [5.4, 3.7, 1.5, 0.2],\n",
       "       [4.8, 3.4, 1.6, 0.2],\n",
       "       [4.8, 3. , 1.4, 0.1],\n",
       "       [4.3, 3. , 1.1, 0.1],\n",
       "       [5.8, 4. , 1.2, 0.2],\n",
       "       [5.7, 4.4, 1.5, 0.4],\n",
       "       [5.4, 3.9, 1.3, 0.4],\n",
       "       [5.1, 3.5, 1.4, 0.3],\n",
       "       [5.7, 3.8, 1.7, 0.3],\n",
       "       [5.1, 3.8, 1.5, 0.3],\n",
       "       [5.4, 3.4, 1.7, 0.2],\n",
       "       [5.1, 3.7, 1.5, 0.4],\n",
       "       [4.6, 3.6, 1. , 0.2],\n",
       "       [5.1, 3.3, 1.7, 0.5],\n",
       "       [4.8, 3.4, 1.9, 0.2],\n",
       "       [5. , 3. , 1.6, 0.2],\n",
       "       [5. , 3.4, 1.6, 0.4],\n",
       "       [5.2, 3.5, 1.5, 0.2],\n",
       "       [5.2, 3.4, 1.4, 0.2],\n",
       "       [4.7, 3.2, 1.6, 0.2],\n",
       "       [4.8, 3.1, 1.6, 0.2],\n",
       "       [5.4, 3.4, 1.5, 0.4],\n",
       "       [5.2, 4.1, 1.5, 0.1],\n",
       "       [5.5, 4.2, 1.4, 0.2],\n",
       "       [4.9, 3.1, 1.5, 0.2],\n",
       "       [5. , 3.2, 1.2, 0.2],\n",
       "       [5.5, 3.5, 1.3, 0.2],\n",
       "       [4.9, 3.6, 1.4, 0.1],\n",
       "       [4.4, 3. , 1.3, 0.2],\n",
       "       [5.1, 3.4, 1.5, 0.2],\n",
       "       [5. , 3.5, 1.3, 0.3],\n",
       "       [4.5, 2.3, 1.3, 0.3],\n",
       "       [4.4, 3.2, 1.3, 0.2],\n",
       "       [5. , 3.5, 1.6, 0.6],\n",
       "       [5.1, 3.8, 1.9, 0.4],\n",
       "       [4.8, 3. , 1.4, 0.3],\n",
       "       [5.1, 3.8, 1.6, 0.2],\n",
       "       [4.6, 3.2, 1.4, 0.2],\n",
       "       [5.3, 3.7, 1.5, 0.2],\n",
       "       [5. , 3.3, 1.4, 0.2],\n",
       "       [7. , 3.2, 4.7, 1.4],\n",
       "       [6.4, 3.2, 4.5, 1.5],\n",
       "       [6.9, 3.1, 4.9, 1.5],\n",
       "       [5.5, 2.3, 4. , 1.3],\n",
       "       [6.5, 2.8, 4.6, 1.5],\n",
       "       [5.7, 2.8, 4.5, 1.3],\n",
       "       [6.3, 3.3, 4.7, 1.6],\n",
       "       [4.9, 2.4, 3.3, 1. ],\n",
       "       [6.6, 2.9, 4.6, 1.3],\n",
       "       [5.2, 2.7, 3.9, 1.4],\n",
       "       [5. , 2. , 3.5, 1. ],\n",
       "       [5.9, 3. , 4.2, 1.5],\n",
       "       [6. , 2.2, 4. , 1. ],\n",
       "       [6.1, 2.9, 4.7, 1.4],\n",
       "       [5.6, 2.9, 3.6, 1.3],\n",
       "       [6.7, 3.1, 4.4, 1.4],\n",
       "       [5.6, 3. , 4.5, 1.5],\n",
       "       [5.8, 2.7, 4.1, 1. ],\n",
       "       [6.2, 2.2, 4.5, 1.5],\n",
       "       [5.6, 2.5, 3.9, 1.1],\n",
       "       [5.9, 3.2, 4.8, 1.8],\n",
       "       [6.1, 2.8, 4. , 1.3],\n",
       "       [6.3, 2.5, 4.9, 1.5],\n",
       "       [6.1, 2.8, 4.7, 1.2],\n",
       "       [6.4, 2.9, 4.3, 1.3],\n",
       "       [6.6, 3. , 4.4, 1.4],\n",
       "       [6.8, 2.8, 4.8, 1.4],\n",
       "       [6.7, 3. , 5. , 1.7],\n",
       "       [6. , 2.9, 4.5, 1.5],\n",
       "       [5.7, 2.6, 3.5, 1. ],\n",
       "       [5.5, 2.4, 3.8, 1.1],\n",
       "       [5.5, 2.4, 3.7, 1. ],\n",
       "       [5.8, 2.7, 3.9, 1.2],\n",
       "       [6. , 2.7, 5.1, 1.6],\n",
       "       [5.4, 3. , 4.5, 1.5],\n",
       "       [6. , 3.4, 4.5, 1.6],\n",
       "       [6.7, 3.1, 4.7, 1.5],\n",
       "       [6.3, 2.3, 4.4, 1.3],\n",
       "       [5.6, 3. , 4.1, 1.3],\n",
       "       [5.5, 2.5, 4. , 1.3],\n",
       "       [5.5, 2.6, 4.4, 1.2],\n",
       "       [6.1, 3. , 4.6, 1.4],\n",
       "       [5.8, 2.6, 4. , 1.2],\n",
       "       [5. , 2.3, 3.3, 1. ],\n",
       "       [5.6, 2.7, 4.2, 1.3],\n",
       "       [5.7, 3. , 4.2, 1.2],\n",
       "       [5.7, 2.9, 4.2, 1.3],\n",
       "       [6.2, 2.9, 4.3, 1.3],\n",
       "       [5.1, 2.5, 3. , 1.1],\n",
       "       [5.7, 2.8, 4.1, 1.3],\n",
       "       [6.3, 3.3, 6. , 2.5],\n",
       "       [5.8, 2.7, 5.1, 1.9],\n",
       "       [7.1, 3. , 5.9, 2.1],\n",
       "       [6.3, 2.9, 5.6, 1.8],\n",
       "       [6.5, 3. , 5.8, 2.2],\n",
       "       [7.6, 3. , 6.6, 2.1],\n",
       "       [4.9, 2.5, 4.5, 1.7],\n",
       "       [7.3, 2.9, 6.3, 1.8],\n",
       "       [6.7, 2.5, 5.8, 1.8],\n",
       "       [7.2, 3.6, 6.1, 2.5],\n",
       "       [6.5, 3.2, 5.1, 2. ],\n",
       "       [6.4, 2.7, 5.3, 1.9],\n",
       "       [6.8, 3. , 5.5, 2.1],\n",
       "       [5.7, 2.5, 5. , 2. ],\n",
       "       [5.8, 2.8, 5.1, 2.4],\n",
       "       [6.4, 3.2, 5.3, 2.3],\n",
       "       [6.5, 3. , 5.5, 1.8],\n",
       "       [7.7, 3.8, 6.7, 2.2],\n",
       "       [7.7, 2.6, 6.9, 2.3],\n",
       "       [6. , 2.2, 5. , 1.5],\n",
       "       [6.9, 3.2, 5.7, 2.3],\n",
       "       [5.6, 2.8, 4.9, 2. ],\n",
       "       [7.7, 2.8, 6.7, 2. ],\n",
       "       [6.3, 2.7, 4.9, 1.8],\n",
       "       [6.7, 3.3, 5.7, 2.1],\n",
       "       [7.2, 3.2, 6. , 1.8],\n",
       "       [6.2, 2.8, 4.8, 1.8],\n",
       "       [6.1, 3. , 4.9, 1.8],\n",
       "       [6.4, 2.8, 5.6, 2.1],\n",
       "       [7.2, 3. , 5.8, 1.6],\n",
       "       [7.4, 2.8, 6.1, 1.9],\n",
       "       [7.9, 3.8, 6.4, 2. ],\n",
       "       [6.4, 2.8, 5.6, 2.2],\n",
       "       [6.3, 2.8, 5.1, 1.5],\n",
       "       [6.1, 2.6, 5.6, 1.4],\n",
       "       [7.7, 3. , 6.1, 2.3],\n",
       "       [6.3, 3.4, 5.6, 2.4],\n",
       "       [6.4, 3.1, 5.5, 1.8],\n",
       "       [6. , 3. , 4.8, 1.8],\n",
       "       [6.9, 3.1, 5.4, 2.1],\n",
       "       [6.7, 3.1, 5.6, 2.4],\n",
       "       [6.9, 3.1, 5.1, 2.3],\n",
       "       [5.8, 2.7, 5.1, 1.9],\n",
       "       [6.8, 3.2, 5.9, 2.3],\n",
       "       [6.7, 3.3, 5.7, 2.5],\n",
       "       [6.7, 3. , 5.2, 2.3],\n",
       "       [6.3, 2.5, 5. , 1.9],\n",
       "       [6.5, 3. , 5.2, 2. ],\n",
       "       [6.2, 3.4, 5.4, 2.3],\n",
       "       [5.9, 3. , 5.1, 1.8]])"
      ]
     },
     "execution_count": 3,
     "metadata": {},
     "output_type": "execute_result"
    }
   ],
   "source": [
    "I_D['data']"
   ]
  },
  {
   "cell_type": "code",
   "execution_count": 4,
   "id": "402648f8",
   "metadata": {
    "execution": {
     "iopub.execute_input": "2022-01-21T16:35:19.031167Z",
     "iopub.status.busy": "2022-01-21T16:35:19.030319Z",
     "iopub.status.idle": "2022-01-21T16:35:19.037262Z",
     "shell.execute_reply": "2022-01-21T16:35:19.037834Z",
     "shell.execute_reply.started": "2022-01-21T16:31:04.629767Z"
    },
    "papermill": {
     "duration": 0.021288,
     "end_time": "2022-01-21T16:35:19.037978",
     "exception": false,
     "start_time": "2022-01-21T16:35:19.016690",
     "status": "completed"
    },
    "tags": []
   },
   "outputs": [
    {
     "data": {
      "text/plain": [
       "array([0, 0, 0, 0, 0, 0, 0, 0, 0, 0, 0, 0, 0, 0, 0, 0, 0, 0, 0, 0, 0, 0,\n",
       "       0, 0, 0, 0, 0, 0, 0, 0, 0, 0, 0, 0, 0, 0, 0, 0, 0, 0, 0, 0, 0, 0,\n",
       "       0, 0, 0, 0, 0, 0, 1, 1, 1, 1, 1, 1, 1, 1, 1, 1, 1, 1, 1, 1, 1, 1,\n",
       "       1, 1, 1, 1, 1, 1, 1, 1, 1, 1, 1, 1, 1, 1, 1, 1, 1, 1, 1, 1, 1, 1,\n",
       "       1, 1, 1, 1, 1, 1, 1, 1, 1, 1, 1, 1, 2, 2, 2, 2, 2, 2, 2, 2, 2, 2,\n",
       "       2, 2, 2, 2, 2, 2, 2, 2, 2, 2, 2, 2, 2, 2, 2, 2, 2, 2, 2, 2, 2, 2,\n",
       "       2, 2, 2, 2, 2, 2, 2, 2, 2, 2, 2, 2, 2, 2, 2, 2, 2, 2])"
      ]
     },
     "execution_count": 4,
     "metadata": {},
     "output_type": "execute_result"
    }
   ],
   "source": [
    "I_D['target']"
   ]
  },
  {
   "cell_type": "code",
   "execution_count": 5,
   "id": "dbf1e619",
   "metadata": {
    "execution": {
     "iopub.execute_input": "2022-01-21T16:35:19.064482Z",
     "iopub.status.busy": "2022-01-21T16:35:19.063645Z",
     "iopub.status.idle": "2022-01-21T16:35:19.290382Z",
     "shell.execute_reply": "2022-01-21T16:35:19.291198Z",
     "shell.execute_reply.started": "2022-01-21T16:31:16.958652Z"
    },
    "papermill": {
     "duration": 0.241842,
     "end_time": "2022-01-21T16:35:19.291468",
     "exception": false,
     "start_time": "2022-01-21T16:35:19.049626",
     "status": "completed"
    },
    "tags": []
   },
   "outputs": [
    {
     "data": {
      "image/png": "[encoded data removed]",
      "text/plain": [
       "<Figure size 432x288 with 1 Axes>"
      ]
     },
     "metadata": {
      "needs_background": "light"
     },
     "output_type": "display_data"
    }
   ],
   "source": [
    "#visualize_sepal_data taking first two features\n",
    "x=I_D.data[:,:2]  \n",
    "y=I_D.target\n",
    "plt.scatter(x[:,0],x[:,1], c=y)\n",
    "plt.xlabel('Sepal length')\n",
    "plt.ylabel('Sepal width')\n",
    "plt.title('Sepal Width & Length')\n",
    "plt.show()"
   ]
  },
  {
   "cell_type": "code",
   "execution_count": 6,
   "id": "704f2132",
   "metadata": {
    "execution": {
     "iopub.execute_input": "2022-01-21T16:35:19.341937Z",
     "iopub.status.busy": "2022-01-21T16:35:19.341003Z",
     "iopub.status.idle": "2022-01-21T16:35:19.520176Z",
     "shell.execute_reply": "2022-01-21T16:35:19.519728Z",
     "shell.execute_reply.started": "2022-01-21T16:31:34.145212Z"
    },
    "papermill": {
     "duration": 0.208043,
     "end_time": "2022-01-21T16:35:19.520308",
     "exception": false,
     "start_time": "2022-01-21T16:35:19.312265",
     "status": "completed"
    },
    "tags": []
   },
   "outputs": [
    {
     "data": {
      "image/png": "[encoded data removed]",
      "text/plain": [
       "<Figure size 432x288 with 1 Axes>"
      ]
     },
     "metadata": {
      "needs_background": "light"
     },
     "output_type": "display_data"
    }
   ],
   "source": [
    "#visualize_petal_data taking last two features\n",
    "x=I_D.data[:,2:]  \n",
    "y=I_D.target\n",
    "plt.scatter(x[:,0],x[:,1], c=y)\n",
    "plt.xlabel('Petal length')\n",
    "plt.ylabel('Petal width')\n",
    "plt.title('Petal Width & Length')\n",
    "plt.show()"
   ]
  },
  {
   "cell_type": "code",
   "execution_count": 7,
   "id": "7285f4fa",
   "metadata": {
    "execution": {
     "iopub.execute_input": "2022-01-21T16:35:19.558754Z",
     "iopub.status.busy": "2022-01-21T16:35:19.558123Z",
     "iopub.status.idle": "2022-01-21T16:35:19.564705Z",
     "shell.execute_reply": "2022-01-21T16:35:19.565101Z",
     "shell.execute_reply.started": "2022-01-21T16:31:49.871027Z"
    },
    "papermill": {
     "duration": 0.030581,
     "end_time": "2022-01-21T16:35:19.565254",
     "exception": false,
     "start_time": "2022-01-21T16:35:19.534673",
     "status": "completed"
    },
    "tags": []
   },
   "outputs": [],
   "source": [
    "# Now we use a spilt function\n",
    "\n",
    "from sklearn.model_selection import train_test_split\n",
    "x_train,x_test,y_train,y_test=train_test_split(I_D.data,I_D.target,test_size=0.2)"
   ]
  },
  {
   "cell_type": "code",
   "execution_count": 8,
   "id": "2338d87d",
   "metadata": {
    "execution": {
     "iopub.execute_input": "2022-01-21T16:35:19.596655Z",
     "iopub.status.busy": "2022-01-21T16:35:19.596050Z",
     "iopub.status.idle": "2022-01-21T16:35:19.602254Z",
     "shell.execute_reply": "2022-01-21T16:35:19.602842Z",
     "shell.execute_reply.started": "2022-01-21T16:32:05.610530Z"
    },
    "papermill": {
     "duration": 0.023441,
     "end_time": "2022-01-21T16:35:19.603013",
     "exception": false,
     "start_time": "2022-01-21T16:35:19.579572",
     "status": "completed"
    },
    "tags": []
   },
   "outputs": [],
   "source": [
    "#we apply a support vector m/c\n",
    "\n",
    "#SVM model with linear kernel\n",
    "x_sepal=x_train[:,:2] \n",
    "y_sepal=y_train\n",
    "\n",
    "svc=svm.SVC(kernel='linear', C=2.8).fit(x_sepal,y_sepal)"
   ]
  },
  {
   "cell_type": "code",
   "execution_count": 9,
   "id": "82408af8",
   "metadata": {
    "execution": {
     "iopub.execute_input": "2022-01-21T16:35:19.635379Z",
     "iopub.status.busy": "2022-01-21T16:35:19.634476Z",
     "iopub.status.idle": "2022-01-21T16:35:19.672742Z",
     "shell.execute_reply": "2022-01-21T16:35:19.673621Z",
     "shell.execute_reply.started": "2022-01-21T16:32:16.020656Z"
    },
    "papermill": {
     "duration": 0.056559,
     "end_time": "2022-01-21T16:35:19.673841",
     "exception": false,
     "start_time": "2022-01-21T16:35:19.617282",
     "status": "completed"
    },
    "tags": []
   },
   "outputs": [
    {
     "name": "stderr",
     "output_type": "stream",
     "text": [
      "/opt/conda/lib/python3.7/site-packages/sklearn/svm/_base.py:977: ConvergenceWarning: Liblinear failed to converge, increase the number of iterations.\n",
      "  \"the number of iterations.\", ConvergenceWarning)\n"
     ]
    }
   ],
   "source": [
    "# LinearSVC (linear kernel)\n",
    "lin_svc = svm.LinearSVC(C=2.8,max_iter=3000).fit(x_sepal, y_sepal)\n",
    "\n",
    "# SVC with RBF kernel\n",
    "rbf_svc = svm.SVC(kernel='rbf', gamma=0.7, C=2.8).fit(x_sepal, y_sepal)\n",
    "\n",
    "# SVC with polynomial (degree 3) kernel\n",
    "poly_svc = svm.SVC(kernel='poly', degree=3, C=2.8).fit(x_sepal, y_sepal)"
   ]
  },
  {
   "cell_type": "code",
   "execution_count": 10,
   "id": "2a22433a",
   "metadata": {
    "execution": {
     "iopub.execute_input": "2022-01-21T16:35:19.725119Z",
     "iopub.status.busy": "2022-01-21T16:35:19.723621Z",
     "iopub.status.idle": "2022-01-21T16:35:19.738756Z",
     "shell.execute_reply": "2022-01-21T16:35:19.739436Z",
     "shell.execute_reply.started": "2022-01-21T16:32:30.891383Z"
    },
    "papermill": {
     "duration": 0.039873,
     "end_time": "2022-01-21T16:35:19.739669",
     "exception": false,
     "start_time": "2022-01-21T16:35:19.699796",
     "status": "completed"
    },
    "tags": []
   },
   "outputs": [
    {
     "name": "stdout",
     "output_type": "stream",
     "text": [
      "Accuracy Score:\n",
      "SVM with kernel(linear): 80.0\n",
      "SVM with linear svc: 83.33333333333334\n",
      "SVM with kernel(rbf): 80.0\n",
      "SVM with kernel(poly): 83.33333333333334\n"
     ]
    }
   ],
   "source": [
    "# Sepal test parformance\n",
    "\n",
    "y_pred_svc=svc.predict(x_test[:,:2])\n",
    "y_pred_lin_svc=lin_svc.predict(x_test[:,:2])\n",
    "y_pred_rbf_svc=rbf_svc.predict(x_test[:,:2])\n",
    "y_pred_poly_svc=poly_svc.predict(x_test[:,:2])\n",
    "\n",
    "#print Sepal test Praformance\n",
    "\n",
    "from sklearn.metrics import accuracy_score as ac\n",
    "print(\"Accuracy Score:\")\n",
    "print('SVM with kernel(linear):',ac(y_test,y_pred_svc)*100)\n",
    "print('SVM with linear svc:',ac(y_test,y_pred_lin_svc)*100)\n",
    "print('SVM with kernel(rbf):',ac(y_test,y_pred_rbf_svc)*100)\n",
    "print('SVM with kernel(poly):',ac(y_test,y_pred_poly_svc)*100)"
   ]
  },
  {
   "cell_type": "code",
   "execution_count": 11,
   "id": "301a01cf",
   "metadata": {
    "execution": {
     "iopub.execute_input": "2022-01-21T16:35:19.780889Z",
     "iopub.status.busy": "2022-01-21T16:35:19.780016Z",
     "iopub.status.idle": "2022-01-21T16:35:19.787899Z",
     "shell.execute_reply": "2022-01-21T16:35:19.788680Z",
     "shell.execute_reply.started": "2022-01-21T16:32:44.782770Z"
    },
    "papermill": {
     "duration": 0.030937,
     "end_time": "2022-01-21T16:35:19.788942",
     "exception": false,
     "start_time": "2022-01-21T16:35:19.758005",
     "status": "completed"
    },
    "tags": []
   },
   "outputs": [
    {
     "name": "stdout",
     "output_type": "stream",
     "text": [
      "Accuracy Score:\n",
      "SVM with kernel(linear): 80.0\n",
      "SVM with linear svc: 80.0\n",
      "SVM with kernel(rbf): 80.0\n",
      "SVM with kernel(poly): 77.5\n"
     ]
    }
   ],
   "source": [
    "# sepal training performance\n",
    "\n",
    "y_pred_svc=svc.predict(x_sepal)\n",
    "y_pred_lin_svc=lin_svc.predict(x_sepal)\n",
    "y_pred_rbf_svc=rbf_svc.predict(x_sepal)\n",
    "y_pred_poly_svc=poly_svc.predict(x_sepal)\n",
    "\n",
    "# print for sepal training performance\n",
    "\n",
    "from sklearn.metrics import accuracy_score as ac\n",
    "print(\"Accuracy Score:\")\n",
    "print('SVM with kernel(linear):',ac(y_sepal,y_pred_svc)*100)\n",
    "print('SVM with linear svc:',ac(y_sepal,y_pred_lin_svc)*100)\n",
    "print('SVM with kernel(rbf):',ac(y_sepal,y_pred_rbf_svc)*100)\n",
    "print('SVM with kernel(poly):',ac(y_sepal,y_pred_poly_svc)*100)\n"
   ]
  },
  {
   "cell_type": "code",
   "execution_count": 12,
   "id": "09c0d55d",
   "metadata": {
    "execution": {
     "iopub.execute_input": "2022-01-21T16:35:19.826950Z",
     "iopub.status.busy": "2022-01-21T16:35:19.826060Z",
     "iopub.status.idle": "2022-01-21T16:35:19.830994Z",
     "shell.execute_reply": "2022-01-21T16:35:19.831552Z",
     "shell.execute_reply.started": "2022-01-21T16:32:58.866264Z"
    },
    "papermill": {
     "duration": 0.025457,
     "end_time": "2022-01-21T16:35:19.831702",
     "exception": false,
     "start_time": "2022-01-21T16:35:19.806245",
     "status": "completed"
    },
    "tags": []
   },
   "outputs": [],
   "source": [
    "#SVM model with linear kernel\n",
    "x_petal=x_train[:,2:] \n",
    "y_petal=y_train\n",
    "\n",
    "svc1=svm.SVC(kernel='linear', C=1.0).fit(x_petal,y_petal)"
   ]
  },
  {
   "cell_type": "code",
   "execution_count": 13,
   "id": "9b3ac821",
   "metadata": {
    "execution": {
     "iopub.execute_input": "2022-01-21T16:35:19.868483Z",
     "iopub.status.busy": "2022-01-21T16:35:19.867651Z",
     "iopub.status.idle": "2022-01-21T16:35:19.878663Z",
     "shell.execute_reply": "2022-01-21T16:35:19.878191Z",
     "shell.execute_reply.started": "2022-01-21T16:33:14.373361Z"
    },
    "papermill": {
     "duration": 0.031731,
     "end_time": "2022-01-21T16:35:19.878809",
     "exception": false,
     "start_time": "2022-01-21T16:35:19.847078",
     "status": "completed"
    },
    "tags": []
   },
   "outputs": [],
   "source": [
    "# LinearSVC (linear kernel)\n",
    "lin_svc1 = svm.LinearSVC(C=1.0,max_iter=3000).fit(x_petal, y_petal)\n",
    "\n",
    "# SVC with RBF kernel\n",
    "rbf_svc1 = svm.SVC(kernel='rbf', gamma=0.7, C=1.0).fit(x_petal, y_petal)\n",
    "\n",
    "# SVC with polynomial (degree 3) kernel\n",
    "poly_svc1 = svm.SVC(kernel='poly', degree=5, C=1.0).fit(x_petal, y_petal)"
   ]
  },
  {
   "cell_type": "code",
   "execution_count": 14,
   "id": "b37bdfb3",
   "metadata": {
    "execution": {
     "iopub.execute_input": "2022-01-21T16:35:19.916347Z",
     "iopub.status.busy": "2022-01-21T16:35:19.915386Z",
     "iopub.status.idle": "2022-01-21T16:35:19.923131Z",
     "shell.execute_reply": "2022-01-21T16:35:19.923788Z",
     "shell.execute_reply.started": "2022-01-21T16:33:34.740599Z"
    },
    "papermill": {
     "duration": 0.029529,
     "end_time": "2022-01-21T16:35:19.924027",
     "exception": false,
     "start_time": "2022-01-21T16:35:19.894498",
     "status": "completed"
    },
    "tags": []
   },
   "outputs": [
    {
     "name": "stdout",
     "output_type": "stream",
     "text": [
      "Accuracy Score:\n",
      "SVM with kernel(linear): 70.0\n",
      "SVM with linear svc: 36.666666666666664\n",
      "SVM with kernel(rbf): 36.666666666666664\n",
      "SVM with kernel(poly): 56.666666666666664\n"
     ]
    }
   ],
   "source": [
    "# Testing performance for Petal\n",
    "y_pred_svc1=svc.predict(x_test[:,2:])\n",
    "y_pred_lin_svc1=lin_svc.predict(x_test[:,2:])\n",
    "y_pred_rbf_svc1=rbf_svc.predict(x_test[:,2:])\n",
    "y_pred_poly_svc1=poly_svc.predict(x_test[:,2:])\n",
    "\n",
    "# print testing performance for Petal\n",
    "\n",
    "print(\"Accuracy Score:\")\n",
    "print('SVM with kernel(linear):',ac(y_test,y_pred_svc1)*100)\n",
    "print('SVM with linear svc:',ac(y_test,y_pred_lin_svc1)*100)\n",
    "print('SVM with kernel(rbf):',ac(y_test,y_pred_rbf_svc1)*100)\n",
    "print('SVM with kernel(poly):',ac(y_test,y_pred_poly_svc1)*100)"
   ]
  },
  {
   "cell_type": "code",
   "execution_count": 15,
   "id": "e59cc528",
   "metadata": {
    "execution": {
     "iopub.execute_input": "2022-01-21T16:35:19.961840Z",
     "iopub.status.busy": "2022-01-21T16:35:19.960875Z",
     "iopub.status.idle": "2022-01-21T16:35:19.968593Z",
     "shell.execute_reply": "2022-01-21T16:35:19.968996Z",
     "shell.execute_reply.started": "2022-01-21T16:33:49.261479Z"
    },
    "papermill": {
     "duration": 0.029195,
     "end_time": "2022-01-21T16:35:19.969147",
     "exception": false,
     "start_time": "2022-01-21T16:35:19.939952",
     "status": "completed"
    },
    "tags": []
   },
   "outputs": [
    {
     "name": "stdout",
     "output_type": "stream",
     "text": [
      "Accuracy Score:\n",
      "SVM with kernel(linear): 66.66666666666666\n",
      "SVM with linear (svc): 33.33333333333333\n",
      "SVM with kernel(rbf): 32.5\n",
      "SVM with kernel(poly): 60.83333333333333\n"
     ]
    }
   ],
   "source": [
    "# Petal training performance\n",
    "\n",
    "y_pred_svc1=svc.predict(x_petal)\n",
    "y_pred_lin_svc1=lin_svc.predict(x_petal)\n",
    "y_pred_rbf_svc1=rbf_svc.predict(x_petal)\n",
    "y_pred_poly_svc1=poly_svc.predict(x_petal)\n",
    "\n",
    "# print for sepal training performance\n",
    "\n",
    "from sklearn.metrics import accuracy_score as ac\n",
    "print(\"Accuracy Score:\")\n",
    "print('SVM with kernel(linear):',ac(y_petal,y_pred_svc1)*100)\n",
    "print('SVM with linear (svc):',ac(y_petal,y_pred_lin_svc1)*100)\n",
    "print('SVM with kernel(rbf):',ac(y_petal,y_pred_rbf_svc1)*100)\n",
    "print('SVM with kernel(poly):',ac(y_petal,y_pred_poly_svc1)*100)\n",
    "\n",
    "\n"
   ]
  },
  {
   "cell_type": "code",
   "execution_count": 16,
   "id": "2d6ae901",
   "metadata": {
    "execution": {
     "iopub.execute_input": "2022-01-21T16:35:20.004054Z",
     "iopub.status.busy": "2022-01-21T16:35:20.003521Z",
     "iopub.status.idle": "2022-01-21T16:35:20.006376Z",
     "shell.execute_reply": "2022-01-21T16:35:20.005758Z",
     "shell.execute_reply.started": "2022-01-21T16:34:04.233785Z"
    },
    "papermill": {
     "duration": 0.022,
     "end_time": "2022-01-21T16:35:20.006502",
     "exception": false,
     "start_time": "2022-01-21T16:35:19.984502",
     "status": "completed"
    },
    "tags": []
   },
   "outputs": [],
   "source": [
    "  clf1 = LogisticRegression(multi_class='multinomial', random_state=1)\n",
    "  clf2 = RandomForestClassifier(n_estimators=50, random_state=1)\n",
    "  clf3 = svm.SVC()"
   ]
  },
  {
   "cell_type": "code",
   "execution_count": 17,
   "id": "87a10e17",
   "metadata": {
    "execution": {
     "iopub.execute_input": "2022-01-21T16:35:20.039916Z",
     "iopub.status.busy": "2022-01-21T16:35:20.039243Z",
     "iopub.status.idle": "2022-01-21T16:35:20.146278Z",
     "shell.execute_reply": "2022-01-21T16:35:20.146727Z",
     "shell.execute_reply.started": "2022-01-21T16:34:17.317145Z"
    },
    "papermill": {
     "duration": 0.125307,
     "end_time": "2022-01-21T16:35:20.146907",
     "exception": false,
     "start_time": "2022-01-21T16:35:20.021600",
     "status": "completed"
    },
    "tags": []
   },
   "outputs": [
    {
     "data": {
      "text/plain": [
       "0.8083333333333333"
      ]
     },
     "execution_count": 17,
     "metadata": {},
     "output_type": "execute_result"
    }
   ],
   "source": [
    "##VOTING CLASSIFIER\n",
    "from sklearn.ensemble import VotingClassifier\n",
    "\n",
    "#create a dictionary of our models\n",
    "estimators=[('log_reg', clf1), ('rf', clf2), ('svm', clf3)]\n",
    "\n",
    "#create our voting classifier, inputting our models\n",
    "ensemble = VotingClassifier(estimators, voting='hard')\n",
    "\n",
    "#fit model to training data\n",
    "ensemble.fit(x_sepal, y_sepal)\n",
    "\n",
    "#test our model on the test data\n",
    "ensemble.score(x_sepal, y_sepal)"
   ]
  },
  {
   "cell_type": "code",
   "execution_count": null,
   "id": "a3171b2a",
   "metadata": {
    "papermill": {
     "duration": 0.014944,
     "end_time": "2022-01-21T16:35:20.177301",
     "exception": false,
     "start_time": "2022-01-21T16:35:20.162357",
     "status": "completed"
    },
    "tags": []
   },
   "outputs": [],
   "source": []
  }
 ],
 "metadata": {
  "kernelspec": {
   "display_name": "Python 3",
   "language": "python",
   "name": "python3"
  },
  "language_info": {
   "codemirror_mode": {
    "name": "ipython",
    "version": 3
   },
   "file_extension": ".py",
   "mimetype": "text/x-python",
   "name": "python",
   "nbconvert_exporter": "python",
   "pygments_lexer": "ipython3",
   "version": "3.7.12"
  },
  "papermill": {
   "default_parameters": {},
   "duration": 11.47275,
   "end_time": "2022-01-21T16:35:20.802370",
   "environment_variables": {},
   "exception": null,
   "input_path": "__notebook__.ipynb",
   "output_path": "__notebook__.ipynb",
   "parameters": {},
   "start_time": "2022-01-21T16:35:09.329620",
   "version": "2.3.3"
  }
 },
 "nbformat": 4,
 "nbformat_minor": 5
}
